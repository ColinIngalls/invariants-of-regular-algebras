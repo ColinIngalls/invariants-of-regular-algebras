{
 "cells": [
  {
   "cell_type": "code",
   "execution_count": 1,
   "metadata": {},
   "outputs": [
    {
     "name": "stdout",
     "output_type": "stream",
     "text": []
    }
   ],
   "source": [
    "//NOTE: This Algebra is isomorphic to Algebra I.\n",
    "QQ := RationalField();"
   ]
  },
  {
   "cell_type": "code",
   "execution_count": 2,
   "metadata": {},
   "outputs": [
    {
     "name": "stdout",
     "output_type": "stream",
     "text": []
    }
   ],
   "source": [
    "FF<k> := PolynomialRing(QQ);"
   ]
  },
  {
   "cell_type": "code",
   "execution_count": 3,
   "metadata": {},
   "outputs": [
    {
     "name": "stdout",
     "output_type": "stream",
     "text": []
    }
   ],
   "source": [
    "N := NumberField(k);"
   ]
  },
  {
   "cell_type": "code",
   "execution_count": 4,
   "metadata": {},
   "outputs": [
    {
     "name": "stdout",
     "output_type": "stream",
     "text": []
    }
   ],
   "source": [
    "P<x,y,a,b> := PolynomialRing(N,4);"
   ]
  },
  {
   "cell_type": "code",
   "execution_count": 5,
   "metadata": {},
   "outputs": [
    {
     "name": "stdout",
     "output_type": "stream",
     "text": []
    }
   ],
   "source": [
    "q12 := Matrix(P,2,4,[1,0,x,y,\n",
    "\t\t\t\t     0,1,a,b]);\n",
    "q13 := Matrix(P,2,4,[1,x,0,y,\n",
    "\t\t\t\t     0,a,1,b]);\n",
    "q14 := Matrix(P,2,4,[1,x,y,0,\n",
    "\t\t\t\t     0,a,b,1]);\n",
    "q23 := Matrix(P,2,4,[x,1,0,y,\n",
    "\t\t\t\t     a,0,1,b]);\n",
    "q24 := Matrix(P,2,4,[x,1,y,0,\n",
    "\t\t\t\t     a,0,b,1]);\n",
    "q34 := Matrix(P,2,4,[x,y,1,0,\n",
    "\t\t\t\t     a,b,0,1]);"
   ]
  },
  {
   "cell_type": "code",
   "execution_count": 6,
   "metadata": {},
   "outputs": [
    {
     "name": "stdout",
     "output_type": "stream",
     "text": []
    }
   ],
   "source": [
    "F<w,x,y,z> := FreeAlgebra(N,4);\n",
    "G := [w,x,y,z];"
   ]
  },
  {
   "cell_type": "code",
   "execution_count": 7,
   "metadata": {},
   "outputs": [
    {
     "name": "stdout",
     "output_type": "stream",
     "text": []
    }
   ],
   "source": [
    "//This is the input of the program, the defining relation of the algebra. \n",
    "f := [\n",
    "x*w + w*x,\n",
    "\n",
    "z*y + y*z,\n",
    "\n",
    "y*w - w*z,\n",
    "\n",
    "y*x - w*y - x*y - w*z,\n",
    "\n",
    "z*w + w*y,\n",
    "\n",
    "z*x - w*y + w*z - x*z\n",
    "\n",
    "];"
   ]
  },
  {
   "cell_type": "code",
   "execution_count": 8,
   "metadata": {},
   "outputs": [
    {
     "name": "stdout",
     "output_type": "stream",
     "text": []
    }
   ],
   "source": [
    "//We convert the given relations into input I. \n",
    "m := [B*A: A in G,B in G];\n",
    "I2_original := Transpose(Matrix(P,6,16,[[MonomialCoefficient(l,k): k in m] : l in f]));"
   ]
  },
  {
   "cell_type": "code",
   "execution_count": 9,
   "metadata": {},
   "outputs": [
    {
     "name": "stdout",
     "output_type": "stream",
     "text": []
    }
   ],
   "source": [
    "//We calculate the perpendicular of I2, and we denote it as I2 to simplify notations for coding. \n",
    "I2_perp := Transpose(NullspaceMatrix(I2_original));\n",
    "I2 := I2_perp;"
   ]
  },
  {
   "cell_type": "code",
   "execution_count": 10,
   "metadata": {},
   "outputs": [
    {
     "name": "stdout",
     "output_type": "stream",
     "text": []
    }
   ],
   "source": [
    "//We calculate the tensor product of q tensor V.\n",
    "V := ScalarMatrix(P,4,1);\n",
    "q12V := TensorProduct(q12,V);\n",
    "q13V := TensorProduct(q13,V);\n",
    "q14V := TensorProduct(q14,V);\n",
    "q23V := TensorProduct(q23,V);\n",
    "q24V := TensorProduct(q24,V);\n",
    "q34V := TensorProduct(q34,V);"
   ]
  },
  {
   "cell_type": "code",
   "execution_count": 11,
   "metadata": {},
   "outputs": [
    {
     "name": "stdout",
     "output_type": "stream",
     "text": []
    }
   ],
   "source": [
    "//We calculate the intersection of q tensor V and I2 perp.\n",
    "qVI_12 := HorizontalJoin(Transpose(q12V),I2);\n",
    "qVI_12_minor:= Minors(qVI_12,16);\n",
    "\n",
    "qVI_13 := HorizontalJoin(Transpose(q13V),I2);\n",
    "qVI_13_minor:= Minors(qVI_13,16);\n",
    "\n",
    "qVI_14 := HorizontalJoin(Transpose(q14V),I2);\n",
    "qVI_14_minor:= Minors(qVI_14,16);\n",
    "\n",
    "qVI_23 := HorizontalJoin(Transpose(q23V),I2);\n",
    "qVI_23_minor:= Minors(qVI_23,16);\n",
    "\n",
    "qVI_24 := HorizontalJoin(Transpose(q24V),I2);\n",
    "qVI_24_minor:= Minors(qVI_24,16);\n",
    "\n",
    "qVI_34 := HorizontalJoin(Transpose(q34V),I2);\n",
    "qVI_34_minor:= Minors(qVI_34,16);"
   ]
  },
  {
   "cell_type": "code",
   "execution_count": 12,
   "metadata": {},
   "outputs": [
    {
     "name": "stdout",
     "output_type": "stream",
     "text": []
    }
   ],
   "source": [
    "P5<e34,e24,e23,e14,e13,e12>:= ProjectiveSpace(N,5); //Plucker\n",
    "G := Scheme(P5, e12*e34-e24*e13+e23*e14);\n",
    "\n",
    "A4 := Spec(P);"
   ]
  },
  {
   "cell_type": "code",
   "execution_count": 13,
   "metadata": {},
   "outputs": [
    {
     "name": "stdout",
     "output_type": "stream",
     "text": []
    }
   ],
   "source": [
    "f12 := map<A4 -> G | Minors(q12,2)>;\n",
    "f13 := map<A4 -> G | Minors(q13,2)>;\n",
    "f14 := map<A4 -> G | Minors(q14,2)>;\n",
    "f23 := map<A4 -> G | Minors(q23,2)>;\n",
    "f24 := map<A4 -> G | Minors(q24,2)>;\n",
    "f34 := map<A4 -> G | Minors(q34,2)>;\n",
    "\n",
    "lineSchemePatch_1 := Scheme(A4,qVI_12_minor);\n",
    "lineSchemePatch_2 := Scheme(A4,qVI_13_minor);\n",
    "lineSchemePatch_3 := Scheme(A4,qVI_14_minor);\n",
    "lineSchemePatch_4 := Scheme(A4,qVI_23_minor);\n",
    "lineSchemePatch_5 := Scheme(A4,qVI_24_minor);\n",
    "lineSchemePatch_6 := Scheme(A4,qVI_34_minor);"
   ]
  },
  {
   "cell_type": "code",
   "execution_count": 14,
   "metadata": {},
   "outputs": [
    {
     "name": "stdout",
     "output_type": "stream",
     "text": [
      "Computing closure 1...\n",
      "Computing closure 2...\n",
      "Computing closure 3...\n",
      "Computing closure 4...\n",
      "Computing closure 5...\n",
      "Computing closure 6...\n"
     ]
    }
   ],
   "source": [
    "\"Computing closure 1...\";\n",
    "closure_1 := f12(lineSchemePatch_1);\n",
    "\"Computing closure 2...\";\n",
    "closure_2 := f13(lineSchemePatch_2);\n",
    "\"Computing closure 3...\";\n",
    "closure_3 := f14(lineSchemePatch_3);\n",
    "\"Computing closure 4...\";\n",
    "closure_4 := f23(lineSchemePatch_4);\n",
    "\"Computing closure 5...\";\n",
    "closure_5 := f24(lineSchemePatch_5);\n",
    "\"Computing closure 6...\";\n",
    "closure_6 := f34(lineSchemePatch_6);"
   ]
  },
  {
   "cell_type": "code",
   "execution_count": 15,
   "metadata": {},
   "outputs": [
    {
     "name": "stdout",
     "output_type": "stream",
     "text": []
    }
   ],
   "source": [
    "l := Union(Union(Union(Union(Union(closure_1,closure_2),closure_3),closure_4),closure_5),closure_6);"
   ]
  },
  {
   "cell_type": "code",
   "execution_count": 16,
   "metadata": {},
   "outputs": [
    {
     "name": "stdout",
     "output_type": "stream",
     "text": []
    }
   ],
   "source": [
    "red_l := ReducedSubscheme(l);\n",
    "comp := IrreducibleComponents(red_l);\n",
    "sing_l := [ReducedSubscheme(SingularSubscheme(I)): I in comp];"
   ]
  },
  {
   "cell_type": "code",
   "execution_count": 17,
   "metadata": {},
   "outputs": [
    {
     "name": "stdout",
     "output_type": "stream",
     "text": [
      "Dimension of l 2\n",
      "Dimension,degree of components: [\n",
      "[ 2, 2, -1, 0 ],\n",
      "[ 2, 2, -1, 0 ],\n",
      "[ 2, 1, -1, 0 ],\n",
      "[ 1, 3, -1, 0 ]\n",
      "]\n"
     ]
    }
   ],
   "source": [
    "\"Dimension of l\", Dimension(red_l);\n",
    "\"Dimension,degree of components:\",[[Dimension(comp[I]),Degree(comp[I]),Dimension(sing_l[I]),Degree(sing_l[I])]: I in [1..#comp]];"
   ]
  },
  {
   "cell_type": "code",
   "execution_count": null,
   "metadata": {},
   "outputs": [],
   "source": []
  }
 ],
 "metadata": {
  "kernelspec": {
   "display_name": "Magma",
   "language": "magma",
   "name": "magma"
  },
  "language_info": {
   "codemirror_mode": "magma",
   "file_extension": ".m",
   "mimetype": "text/x-magma",
   "name": "magma",
   "version": "2.25-7"
  }
 },
 "nbformat": 4,
 "nbformat_minor": 4
}
